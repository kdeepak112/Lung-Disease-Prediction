{
  "nbformat": 4,
  "nbformat_minor": 0,
  "metadata": {
    "accelerator": "GPU",
    "colab": {
      "name": "Lung Disease Predction",
      "provenance": [],
      "collapsed_sections": []
    },
    "kernelspec": {
      "display_name": "Python 3",
      "name": "python3"
    }
  },
  "cells": [
    {
      "cell_type": "code",
      "metadata": {
        "id": "vhRJjowsePEn"
      },
      "source": [
        "!unzip /content/drive/MyDrive/Stroke_Prediction.zip"
      ],
      "execution_count": null,
      "outputs": []
    },
    {
      "cell_type": "code",
      "metadata": {
        "id": "3BL7MRebdiaf"
      },
      "source": [
        "from tensorflow.keras.layers import Input, Lambda, Dense, Flatten , Dropout \n",
        "from tensorflow.keras.models import Model\n",
        "from keras.layers.normalization import BatchNormalization\n",
        "import tensorflow as tf\n",
        "from tensorflow.keras.applications.inception_v3 import InceptionV3\n",
        "from keras.applications.vgg16 import VGG16\n",
        "from keras.applications.resnet50 import ResNet50\n",
        "from tensorflow.keras.applications.inception_v3 import preprocess_input\n",
        "from tensorflow.keras.preprocessing import image\n",
        "from tensorflow.keras.preprocessing.image import ImageDataGenerator,load_img\n",
        "from tensorflow.keras.models import Sequential\n",
        "import numpy as np\n",
        "from glob import glob"
      ],
      "execution_count": null,
      "outputs": []
    },
    {
      "cell_type": "code",
      "metadata": {
        "id": "PrfESI6QfhMQ"
      },
      "source": [
        "IMAGE_SIZE = [224, 224]\n",
        "\n",
        "train_path = '/content/chest_xray/train'\n",
        "valid_path = '/content/chest_xray/test'"
      ],
      "execution_count": null,
      "outputs": []
    },
    {
      "cell_type": "code",
      "metadata": {
        "id": "x2UVkzONfkdW"
      },
      "source": [
        "vgg = VGG16(input_shape=IMAGE_SIZE + [3], weights='imagenet', include_top=False)\n"
      ],
      "execution_count": null,
      "outputs": []
    },
    {
      "cell_type": "code",
      "metadata": {
        "id": "YR8qs0m4fmOn"
      },
      "source": [
        "for layer in vgg.layers:\n",
        "    layer.trainable = False"
      ],
      "execution_count": null,
      "outputs": []
    },
    {
      "cell_type": "code",
      "metadata": {
        "colab": {
          "base_uri": "https://localhost:8080/"
        },
        "id": "BNUdJ1sDfsl6",
        "outputId": "328cf5ef-b9a6-444d-8807-6c46eeafe857"
      },
      "source": [
        "folders = glob('/content/chest_xray/train/*')\n",
        "print(len(folders))"
      ],
      "execution_count": null,
      "outputs": [
        {
          "output_type": "stream",
          "text": [
            "2\n"
          ],
          "name": "stdout"
        }
      ]
    },
    {
      "cell_type": "code",
      "metadata": {
        "id": "yZT8dXwK3ID_"
      },
      "source": [
        "from tensorflow.keras.callbacks import EarlyStopping"
      ],
      "execution_count": null,
      "outputs": []
    },
    {
      "cell_type": "code",
      "metadata": {
        "id": "xYoJHF5R36ww"
      },
      "source": [
        "early_stop = EarlyStopping(monitor='val_loss', mode='min', verbose=1, patience=30)"
      ],
      "execution_count": null,
      "outputs": []
    },
    {
      "cell_type": "code",
      "metadata": {
        "id": "fLP9nLbzgGa5"
      },
      "source": [
        "\n",
        "x = Flatten()(vgg.output)\n",
        "\n",
        "\n"
      ],
      "execution_count": null,
      "outputs": []
    },
    {
      "cell_type": "code",
      "metadata": {
        "id": "rJVanYt0gJI8"
      },
      "source": [
        "prediction = Dense(1, activation='sigmoid')(x)\n",
        "\n",
        "# create a model object\n",
        "model = Model(inputs=vgg.input, outputs=prediction)"
      ],
      "execution_count": null,
      "outputs": []
    },
    {
      "cell_type": "code",
      "metadata": {
        "colab": {
          "base_uri": "https://localhost:8080/"
        },
        "id": "i96XqlfqgY0P",
        "outputId": "f2d608ac-b502-4769-8851-bb216a6b2217"
      },
      "source": [
        "model.summary()"
      ],
      "execution_count": null,
      "outputs": [
        {
          "output_type": "stream",
          "text": [
            "Model: \"model_13\"\n",
            "_________________________________________________________________\n",
            "Layer (type)                 Output Shape              Param #   \n",
            "=================================================================\n",
            "input_6 (InputLayer)         [(None, 224, 224, 3)]     0         \n",
            "_________________________________________________________________\n",
            "block1_conv1 (Conv2D)        (None, 224, 224, 64)      1792      \n",
            "_________________________________________________________________\n",
            "block1_conv2 (Conv2D)        (None, 224, 224, 64)      36928     \n",
            "_________________________________________________________________\n",
            "block1_pool (MaxPooling2D)   (None, 112, 112, 64)      0         \n",
            "_________________________________________________________________\n",
            "block2_conv1 (Conv2D)        (None, 112, 112, 128)     73856     \n",
            "_________________________________________________________________\n",
            "block2_conv2 (Conv2D)        (None, 112, 112, 128)     147584    \n",
            "_________________________________________________________________\n",
            "block2_pool (MaxPooling2D)   (None, 56, 56, 128)       0         \n",
            "_________________________________________________________________\n",
            "block3_conv1 (Conv2D)        (None, 56, 56, 256)       295168    \n",
            "_________________________________________________________________\n",
            "block3_conv2 (Conv2D)        (None, 56, 56, 256)       590080    \n",
            "_________________________________________________________________\n",
            "block3_conv3 (Conv2D)        (None, 56, 56, 256)       590080    \n",
            "_________________________________________________________________\n",
            "block3_pool (MaxPooling2D)   (None, 28, 28, 256)       0         \n",
            "_________________________________________________________________\n",
            "block4_conv1 (Conv2D)        (None, 28, 28, 512)       1180160   \n",
            "_________________________________________________________________\n",
            "block4_conv2 (Conv2D)        (None, 28, 28, 512)       2359808   \n",
            "_________________________________________________________________\n",
            "block4_conv3 (Conv2D)        (None, 28, 28, 512)       2359808   \n",
            "_________________________________________________________________\n",
            "block4_pool (MaxPooling2D)   (None, 14, 14, 512)       0         \n",
            "_________________________________________________________________\n",
            "block5_conv1 (Conv2D)        (None, 14, 14, 512)       2359808   \n",
            "_________________________________________________________________\n",
            "block5_conv2 (Conv2D)        (None, 14, 14, 512)       2359808   \n",
            "_________________________________________________________________\n",
            "block5_conv3 (Conv2D)        (None, 14, 14, 512)       2359808   \n",
            "_________________________________________________________________\n",
            "block5_pool (MaxPooling2D)   (None, 7, 7, 512)         0         \n",
            "_________________________________________________________________\n",
            "flatten_13 (Flatten)         (None, 25088)             0         \n",
            "_________________________________________________________________\n",
            "dense_29 (Dense)             (None, 1)                 25089     \n",
            "=================================================================\n",
            "Total params: 14,739,777\n",
            "Trainable params: 25,089\n",
            "Non-trainable params: 14,714,688\n",
            "_________________________________________________________________\n"
          ],
          "name": "stdout"
        }
      ]
    },
    {
      "cell_type": "code",
      "metadata": {
        "id": "M4k0lAJtgaYj"
      },
      "source": [
        "model.compile(\n",
        "  loss='binary_crossentropy',\n",
        "  optimizer='adam',\n",
        "  metrics=['accuracy',tf.keras.metrics.Recall(),tf.keras.metrics.Precision()]\n",
        ")"
      ],
      "execution_count": null,
      "outputs": []
    },
    {
      "cell_type": "code",
      "metadata": {
        "id": "wPgFRb3EggVm"
      },
      "source": [
        "from keras.preprocessing.image import ImageDataGenerator\n",
        "\n",
        "train_datagen = ImageDataGenerator(rescale = 1./255,\n",
        "                                   shear_range = 0.2,\n",
        "                                   zoom_range = 0.2,\n",
        "                                   horizontal_flip = True)\n",
        "\n",
        "test_datagen = ImageDataGenerator(rescale = 1./255)"
      ],
      "execution_count": null,
      "outputs": []
    },
    {
      "cell_type": "code",
      "metadata": {
        "colab": {
          "base_uri": "https://localhost:8080/"
        },
        "id": "AaLPUwWrgidl",
        "outputId": "c3fb1f1d-504b-4370-9579-8619b73d210a"
      },
      "source": [
        "training_set = train_datagen.flow_from_directory('/content/chest_xray/train',\n",
        "                                                 target_size = (224, 224),\n",
        "                                                 batch_size = 32,\n",
        "                                                class_mode = 'binary')"
      ],
      "execution_count": null,
      "outputs": [
        {
          "output_type": "stream",
          "text": [
            "Found 5216 images belonging to 2 classes.\n"
          ],
          "name": "stdout"
        }
      ]
    },
    {
      "cell_type": "code",
      "metadata": {
        "colab": {
          "base_uri": "https://localhost:8080/"
        },
        "id": "mF8pBsy_hHdK",
        "outputId": "12acead1-4d38-44f5-fb68-089751c48a0c"
      },
      "source": [
        "test_set = test_datagen.flow_from_directory('/content/chest_xray/test',\n",
        "                                            target_size = (224, 224),\n",
        "                                            batch_size = 32,\n",
        "                                            class_mode = 'binary')"
      ],
      "execution_count": null,
      "outputs": [
        {
          "output_type": "stream",
          "text": [
            "Found 624 images belonging to 2 classes.\n"
          ],
          "name": "stdout"
        }
      ]
    },
    {
      "cell_type": "code",
      "metadata": {
        "colab": {
          "background_save": true,
          "base_uri": "https://localhost:8080/"
        },
        "id": "JQKkBXYVz_6Q",
        "outputId": "e3e3ccc5-4f6f-4fde-8411-2f89033f5c1f"
      },
      "source": [
        "r = model.fit_generator(\n",
        "  training_set,\n",
        "  validation_data=test_set,\n",
        "  epochs=100,\n",
        "  steps_per_epoch=len(training_set),\n",
        "  validation_steps=len(test_set),\n",
        "  callbacks=[early_stop]\n",
        ")"
      ],
      "execution_count": null,
      "outputs": [
        {
          "output_type": "stream",
          "text": [
            "/usr/local/lib/python3.7/dist-packages/tensorflow/python/keras/engine/training.py:1844: UserWarning: `Model.fit_generator` is deprecated and will be removed in a future version. Please use `Model.fit`, which supports generators.\n",
            "  warnings.warn('`Model.fit_generator` is deprecated and '\n"
          ],
          "name": "stderr"
        },
        {
          "output_type": "stream",
          "text": [
            "Epoch 1/100\n",
            "163/163 [==============================] - 99s 604ms/step - loss: 0.2840 - accuracy: 0.8805 - recall_14: 0.9325 - precision_13: 0.9099 - val_loss: 0.2545 - val_accuracy: 0.8990 - val_recall_14: 0.9538 - val_precision_13: 0.8921\n",
            "Epoch 2/100\n",
            "163/163 [==============================] - 98s 601ms/step - loss: 0.1166 - accuracy: 0.9573 - recall_14: 0.9688 - precision_13: 0.9731 - val_loss: 0.3655 - val_accuracy: 0.8878 - val_recall_14: 0.9923 - val_precision_13: 0.8524\n",
            "Epoch 3/100\n",
            "163/163 [==============================] - 98s 600ms/step - loss: 0.0917 - accuracy: 0.9686 - recall_14: 0.9800 - precision_13: 0.9777 - val_loss: 0.2481 - val_accuracy: 0.9151 - val_recall_14: 0.9795 - val_precision_13: 0.8946\n",
            "Epoch 4/100\n",
            "163/163 [==============================] - 98s 598ms/step - loss: 0.0883 - accuracy: 0.9652 - recall_14: 0.9729 - precision_13: 0.9799 - val_loss: 0.2254 - val_accuracy: 0.9199 - val_recall_14: 0.9487 - val_precision_13: 0.9250\n",
            "Epoch 5/100\n",
            "163/163 [==============================] - 98s 600ms/step - loss: 0.0755 - accuracy: 0.9726 - recall_14: 0.9796 - precision_13: 0.9834 - val_loss: 0.2911 - val_accuracy: 0.9038 - val_recall_14: 0.9692 - val_precision_13: 0.8873\n",
            "Epoch 6/100\n",
            "163/163 [==============================] - 98s 601ms/step - loss: 0.0750 - accuracy: 0.9695 - recall_14: 0.9789 - precision_13: 0.9803 - val_loss: 0.2442 - val_accuracy: 0.9215 - val_recall_14: 0.9487 - val_precision_13: 0.9273\n",
            "Epoch 7/100\n",
            "163/163 [==============================] - 98s 598ms/step - loss: 0.0713 - accuracy: 0.9737 - recall_14: 0.9825 - precision_13: 0.9823 - val_loss: 0.3048 - val_accuracy: 0.9071 - val_recall_14: 0.9667 - val_precision_13: 0.8934\n",
            "Epoch 8/100\n",
            "163/163 [==============================] - 97s 598ms/step - loss: 0.0634 - accuracy: 0.9783 - recall_14: 0.9832 - precision_13: 0.9874 - val_loss: 0.2450 - val_accuracy: 0.9215 - val_recall_14: 0.9410 - val_precision_13: 0.9338\n",
            "Epoch 9/100\n",
            "163/163 [==============================] - 97s 596ms/step - loss: 0.0615 - accuracy: 0.9769 - recall_14: 0.9813 - precision_13: 0.9874 - val_loss: 0.2568 - val_accuracy: 0.9199 - val_recall_14: 0.9641 - val_precision_13: 0.9126\n",
            "Epoch 10/100\n",
            "163/163 [==============================] - 98s 598ms/step - loss: 0.0608 - accuracy: 0.9781 - recall_14: 0.9844 - precision_13: 0.9859 - val_loss: 0.3241 - val_accuracy: 0.9167 - val_recall_14: 0.9846 - val_precision_13: 0.8930\n",
            "Epoch 11/100\n",
            "163/163 [==============================] - 97s 595ms/step - loss: 0.0586 - accuracy: 0.9771 - recall_14: 0.9848 - precision_13: 0.9844 - val_loss: 0.2649 - val_accuracy: 0.9215 - val_recall_14: 0.9718 - val_precision_13: 0.9089\n",
            "Epoch 12/100\n",
            "163/163 [==============================] - 97s 598ms/step - loss: 0.0727 - accuracy: 0.9730 - recall_14: 0.9816 - precision_13: 0.9821 - val_loss: 0.2784 - val_accuracy: 0.9183 - val_recall_14: 0.9795 - val_precision_13: 0.8988\n",
            "Epoch 13/100\n",
            "163/163 [==============================] - 97s 597ms/step - loss: 0.0628 - accuracy: 0.9737 - recall_14: 0.9839 - precision_13: 0.9812 - val_loss: 0.3359 - val_accuracy: 0.9087 - val_recall_14: 0.9846 - val_precision_13: 0.8828\n",
            "Epoch 14/100\n",
            "163/163 [==============================] - 97s 596ms/step - loss: 0.0542 - accuracy: 0.9798 - recall_14: 0.9868 - precision_13: 0.9860 - val_loss: 0.2429 - val_accuracy: 0.9199 - val_recall_14: 0.9359 - val_precision_13: 0.9359\n",
            "Epoch 15/100\n",
            "163/163 [==============================] - 97s 597ms/step - loss: 0.0516 - accuracy: 0.9808 - recall_14: 0.9858 - precision_13: 0.9886 - val_loss: 0.3154 - val_accuracy: 0.9103 - val_recall_14: 0.9821 - val_precision_13: 0.8866\n",
            "Epoch 16/100\n",
            "163/163 [==============================] - 98s 598ms/step - loss: 0.0510 - accuracy: 0.9818 - recall_14: 0.9865 - precision_13: 0.9893 - val_loss: 0.2832 - val_accuracy: 0.9167 - val_recall_14: 0.9718 - val_precision_13: 0.9024\n",
            "Epoch 17/100\n",
            "163/163 [==============================] - 97s 595ms/step - loss: 0.0511 - accuracy: 0.9785 - recall_14: 0.9834 - precision_13: 0.9875 - val_loss: 0.2551 - val_accuracy: 0.9215 - val_recall_14: 0.9641 - val_precision_13: 0.9148\n",
            "Epoch 18/100\n",
            "163/163 [==============================] - 97s 597ms/step - loss: 0.0445 - accuracy: 0.9840 - recall_14: 0.9879 - precision_13: 0.9907 - val_loss: 0.2540 - val_accuracy: 0.9199 - val_recall_14: 0.9590 - val_precision_13: 0.9167\n",
            "Epoch 19/100\n",
            "163/163 [==============================] - 98s 598ms/step - loss: 0.0465 - accuracy: 0.9818 - recall_14: 0.9870 - precision_13: 0.9885 - val_loss: 0.2612 - val_accuracy: 0.9215 - val_recall_14: 0.9513 - val_precision_13: 0.9252\n",
            "Epoch 20/100\n",
            "163/163 [==============================] - 97s 595ms/step - loss: 0.0458 - accuracy: 0.9807 - recall_14: 0.9867 - precision_13: 0.9877 - val_loss: 0.2746 - val_accuracy: 0.9231 - val_recall_14: 0.9590 - val_precision_13: 0.9212\n",
            "Epoch 21/100\n",
            "163/163 [==============================] - 97s 597ms/step - loss: 0.0526 - accuracy: 0.9779 - recall_14: 0.9840 - precision_13: 0.9864 - val_loss: 0.4413 - val_accuracy: 0.8910 - val_recall_14: 0.9897 - val_precision_13: 0.8578\n",
            "Epoch 22/100\n",
            "163/163 [==============================] - 97s 595ms/step - loss: 0.0485 - accuracy: 0.9843 - recall_14: 0.9907 - precision_13: 0.9880 - val_loss: 0.3494 - val_accuracy: 0.9006 - val_recall_14: 0.9744 - val_precision_13: 0.8796\n",
            "Epoch 23/100\n",
            "163/163 [==============================] - 97s 595ms/step - loss: 0.0385 - accuracy: 0.9852 - recall_14: 0.9902 - precision_13: 0.9897 - val_loss: 0.2411 - val_accuracy: 0.9199 - val_recall_14: 0.9436 - val_precision_13: 0.9293\n",
            "Epoch 24/100\n",
            "163/163 [==============================] - 97s 594ms/step - loss: 0.0420 - accuracy: 0.9857 - recall_14: 0.9872 - precision_13: 0.9936 - val_loss: 0.2930 - val_accuracy: 0.9119 - val_recall_14: 0.9513 - val_precision_13: 0.9115\n",
            "Epoch 25/100\n",
            "163/163 [==============================] - 97s 595ms/step - loss: 0.0366 - accuracy: 0.9890 - recall_14: 0.9920 - precision_13: 0.9933 - val_loss: 0.2605 - val_accuracy: 0.9231 - val_recall_14: 0.9513 - val_precision_13: 0.9275\n",
            "Epoch 26/100\n",
            "163/163 [==============================] - 97s 593ms/step - loss: 0.0379 - accuracy: 0.9887 - recall_14: 0.9927 - precision_13: 0.9922 - val_loss: 0.3749 - val_accuracy: 0.9119 - val_recall_14: 0.9718 - val_precision_13: 0.8960\n",
            "Epoch 27/100\n",
            "163/163 [==============================] - 97s 594ms/step - loss: 0.0352 - accuracy: 0.9873 - recall_14: 0.9912 - precision_13: 0.9916 - val_loss: 0.3306 - val_accuracy: 0.9247 - val_recall_14: 0.9744 - val_precision_13: 0.9113\n",
            "Epoch 28/100\n",
            "163/163 [==============================] - 97s 594ms/step - loss: 0.0306 - accuracy: 0.9879 - recall_14: 0.9925 - precision_13: 0.9913 - val_loss: 0.2717 - val_accuracy: 0.9311 - val_recall_14: 0.9641 - val_precision_13: 0.9284\n",
            "Epoch 29/100\n",
            "163/163 [==============================] - 96s 591ms/step - loss: 0.0448 - accuracy: 0.9833 - recall_14: 0.9888 - precision_13: 0.9889 - val_loss: 0.2951 - val_accuracy: 0.9247 - val_recall_14: 0.9641 - val_precision_13: 0.9193\n",
            "Epoch 30/100\n",
            "163/163 [==============================] - 97s 597ms/step - loss: 0.0287 - accuracy: 0.9886 - recall_14: 0.9928 - precision_13: 0.9919 - val_loss: 0.3378 - val_accuracy: 0.9199 - val_recall_14: 0.9769 - val_precision_13: 0.9028\n",
            "Epoch 31/100\n",
            "163/163 [==============================] - 96s 587ms/step - loss: 0.0398 - accuracy: 0.9851 - recall_14: 0.9907 - precision_13: 0.9893 - val_loss: 0.3732 - val_accuracy: 0.9054 - val_recall_14: 0.9769 - val_precision_13: 0.8840\n",
            "Epoch 32/100\n",
            "163/163 [==============================] - 96s 587ms/step - loss: 0.0382 - accuracy: 0.9853 - recall_14: 0.9902 - precision_13: 0.9899 - val_loss: 0.2910 - val_accuracy: 0.9279 - val_recall_14: 0.9538 - val_precision_13: 0.9323\n",
            "Epoch 33/100\n",
            "163/163 [==============================] - 96s 590ms/step - loss: 0.0350 - accuracy: 0.9873 - recall_14: 0.9925 - precision_13: 0.9904 - val_loss: 0.2753 - val_accuracy: 0.9343 - val_recall_14: 0.9692 - val_precision_13: 0.9287\n",
            "Epoch 34/100\n",
            "163/163 [==============================] - 96s 587ms/step - loss: 0.0270 - accuracy: 0.9898 - recall_14: 0.9919 - precision_13: 0.9944 - val_loss: 0.3193 - val_accuracy: 0.9263 - val_recall_14: 0.9718 - val_precision_13: 0.9155\n",
            "Epoch 00034: early stopping\n"
          ],
          "name": "stdout"
        }
      ]
    },
    {
      "cell_type": "code",
      "metadata": {
        "colab": {
          "background_save": true
        },
        "id": "w_IikzPA7AKd",
        "outputId": "1819702a-b700-4bc1-c380-3af7d48fc8b7"
      },
      "source": [
        "import matplotlib.pyplot as plt\n",
        "\n",
        "# plot the loss\n",
        "plt.plot(r.history['loss'], label='train loss')\n",
        "plt.plot(r.history['val_loss'], label='val loss')\n",
        "plt.legend()\n",
        "plt.show()\n",
        "plt.savefig('Lung_LossVal_loss')\n",
        "\n",
        "# plot the accuracy\n",
        "plt.plot(r.history['accuracy'], label='train acc')\n",
        "plt.plot(r.history['val_accuracy'], label='val acc')\n",
        "plt.legend()\n",
        "plt.show()\n",
        "plt.savefig('Lung_AccVal_acc')\n",
        "\n",
        "print(np.mean(r.history['val_accuracy']))\n",
        "\n"
      ],
      "execution_count": null,
      "outputs": [
        {
          "output_type": "display_data",
          "data": {
            "image/png": "[encoded data removed]",
            "text/plain": [
              "<Figure size 432x288 with 1 Axes>"
            ]
          },
          "metadata": {
            "tags": []
          }
        },
        {
          "output_type": "display_data",
          "data": {
            "image/png": "[encoded data removed]",
            "text/plain": [
              "<Figure size 432x288 with 1 Axes>"
            ]
          },
          "metadata": {
            "tags": []
          }
        },
        {
          "output_type": "stream",
          "text": [
            "0.9160539209842682\n"
          ],
          "name": "stdout"
        },
        {
          "output_type": "display_data",
          "data": {
            "text/plain": [
              "<Figure size 432x288 with 0 Axes>"
            ]
          },
          "metadata": {
            "tags": []
          }
        }
      ]
    },
    {
      "cell_type": "code",
      "metadata": {
        "id": "w0UU7_sS7CTX"
      },
      "source": [
        ""
      ],
      "execution_count": null,
      "outputs": []
    }
  ]
}